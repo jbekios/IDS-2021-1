{
 "cells": [
  {
   "cell_type": "markdown",
   "metadata": {
    "slideshow": {
     "slide_type": "slide"
    }
   },
   "source": [
    "# Laboratorio 06: Incertidumbre\n",
    "\n",
    "## Reconocimiento de género en imágenes de caras"
   ]
  },
  {
   "cell_type": "markdown",
   "metadata": {
    "slideshow": {
     "slide_type": "slide"
    }
   },
   "source": [
    "## Problema \n",
    "\n",
    "Se desea reconocer si una cara pertenece a un hombre o una mujer dada una imagen de una cara. La implementación del clasificador se debe realizar utilizando el material de probabilidades visto en clases.\n",
    "\n",
    "### Base de datos\n",
    "\n",
    "https://www.kaggle.com/cashutosh/gender-classification-dataset\n"
   ]
  },
  {
   "cell_type": "markdown",
   "metadata": {
    "slideshow": {
     "slide_type": "slide"
    }
   },
   "source": [
    "## Objetivo General\n",
    "* Clasificar imágenes de rostros como hombre o mujeres.\n",
    "\n",
    "## Objetivos Específicos\n",
    "1. Acondicionar las imágenes para su uso.\n",
    "2. Transformar las imágenes a un conjunto de características discriminantes utilizando PCA y LDA.\n",
    "3. Implementar las funciones de densidad de probabilidades para cada género.\n",
    "4. Utilizar el teorema de bayes para clasificar las caras."
   ]
  },
  {
   "cell_type": "markdown",
   "metadata": {
    "slideshow": {
     "slide_type": "slide"
    }
   },
   "source": [
    "## Cargar imágenes y sus etiquetas"
   ]
  },
  {
   "cell_type": "code",
   "execution_count": null,
   "metadata": {
    "slideshow": {
     "slide_type": "fragment"
    }
   },
   "outputs": [],
   "source": [
    "from os import listdir\n",
    "from os.path import isfile, join\n",
    "import re\n",
    "from PIL import Image, ImageOps\n",
    "import matplotlib.pyplot as plt\n",
    "import numpy as np\n",
    "\n",
    "# Cargar base de datos hombres y mujeres\n",
    "def load_database_gender(mypath, label=0, grayscale=False, scale=None, flatten=False):\n",
    "    files = [join(mypath, f) for f in listdir(mypath) if isfile(join(mypath, f))]\n",
    "    X = []\n",
    "    y = []\n",
    "    for file in files:\n",
    "        y.append(label)\n",
    "        img = Image.open(file)\n",
    "        if grayscale:\n",
    "            img = ImageOps.grayscale(img)\n",
    "        if scale is not None:\n",
    "            img = img.resize(scale) \n",
    "        X.append(img)\n",
    "    \n",
    "    # Transformo las imágenes a vectores numpy\n",
    "    if flatten:\n",
    "        X_numpy =[np.array(im).flatten() for im in X]\n",
    "    else: # Transformo solo a matrix numpy\n",
    "        X_numpy = [np.array(im) for im in X]\n",
    "    return X_numpy, y\n",
    "        \n",
    "\n",
    "\n",
    "# path donde se encuentran las imágenes de hombres\n",
    "mypath = 'database/Training/male' \n",
    "\n",
    "X_male_train, y_male_train = load_database_gender(mypath, label=0, grayscale=True, scale=None)\n",
    "plt.imshow(X_male_train[10], cmap='gray', vmin=0, vmax=255)\n",
    "\n",
    "X_male_train, y_male_train = load_database_gender(mypath, label=0, grayscale=True, scale=None, flatten=True)\n",
    "print(X_male_train[0].shape)"
   ]
  },
  {
   "cell_type": "markdown",
   "metadata": {
    "slideshow": {
     "slide_type": "slide"
    }
   },
   "source": [
    "## Cargar el conjunto de pruebas y de validación\n",
    "\n",
    "Escriba el código para cargar el conjunto de entrenamiento (mujeres y hombres) y el de validación (mujeres y hombres).\n",
    "\n",
    "La imagen debe ser de $25\\times25$. Se utilizará la etiqueta **0 para hombre** y **1 para mujeres**."
   ]
  },
  {
   "cell_type": "code",
   "execution_count": null,
   "metadata": {
    "slideshow": {
     "slide_type": "slide"
    }
   },
   "outputs": [],
   "source": [
    "# Escriba el código aquí"
   ]
  },
  {
   "cell_type": "code",
   "execution_count": null,
   "metadata": {
    "slideshow": {
     "slide_type": "slide"
    }
   },
   "outputs": [],
   "source": [
    "# Escriba el código aquí\n"
   ]
  },
  {
   "cell_type": "code",
   "execution_count": null,
   "metadata": {},
   "outputs": [],
   "source": []
  },
  {
   "cell_type": "code",
   "execution_count": null,
   "metadata": {},
   "outputs": [],
   "source": []
  },
  {
   "cell_type": "markdown",
   "metadata": {
    "slideshow": {
     "slide_type": "slide"
    }
   },
   "source": [
    "## Transformar las imágenes a un nuevo conjunto de características discriminantes\n",
    "\n",
    "### PCA (_Principal Component Analysis_)\n",
    "\n",
    "En estadística, el análisis de componentes principales (en español ACP, en inglés, PCA) es una técnica utilizada para describir un conjunto de datos en términos de nuevas variables («componentes») no correlacionadas. Los componentes se ordenan por la cantidad de varianza original que describen, por lo que la técnica es útil para reducir la dimensionalidad de un conjunto de datos. \n",
    "\n",
    "https://es.wikipedia.org/wiki/An%C3%A1lisis_de_componentes_principales"
   ]
  },
  {
   "cell_type": "markdown",
   "metadata": {
    "slideshow": {
     "slide_type": "slide"
    }
   },
   "source": [
    "### Transformar los datos a formato sklearn\n",
    "\n",
    "Convertir la lista de vectores `numpy` a una matriz `numpy`"
   ]
  },
  {
   "cell_type": "code",
   "execution_count": null,
   "metadata": {
    "slideshow": {
     "slide_type": "fragment"
    }
   },
   "outputs": [],
   "source": []
  },
  {
   "cell_type": "markdown",
   "metadata": {
    "slideshow": {
     "slide_type": "slide"
    }
   },
   "source": [
    "### Aplicar PCA con sklearn"
   ]
  },
  {
   "cell_type": "code",
   "execution_count": null,
   "metadata": {
    "slideshow": {
     "slide_type": "fragment"
    }
   },
   "outputs": [],
   "source": []
  },
  {
   "cell_type": "markdown",
   "metadata": {
    "slideshow": {
     "slide_type": "slide"
    }
   },
   "source": [
    "### Visualizar PCA"
   ]
  },
  {
   "cell_type": "code",
   "execution_count": null,
   "metadata": {
    "slideshow": {
     "slide_type": "fragment"
    }
   },
   "outputs": [],
   "source": []
  },
  {
   "cell_type": "markdown",
   "metadata": {
    "slideshow": {
     "slide_type": "slide"
    }
   },
   "source": [
    "# Graficar ambos PCA"
   ]
  },
  {
   "cell_type": "code",
   "execution_count": null,
   "metadata": {
    "slideshow": {
     "slide_type": "fragment"
    }
   },
   "outputs": [],
   "source": []
  },
  {
   "cell_type": "markdown",
   "metadata": {
    "slideshow": {
     "slide_type": "slide"
    }
   },
   "source": [
    "### Proyección LDA (_Linear Discriminant Analysis_)"
   ]
  },
  {
   "cell_type": "code",
   "execution_count": null,
   "metadata": {
    "slideshow": {
     "slide_type": "fragment"
    }
   },
   "outputs": [],
   "source": [
    "\n"
   ]
  },
  {
   "cell_type": "markdown",
   "metadata": {
    "slideshow": {
     "slide_type": "slide"
    }
   },
   "source": [
    "### Visualizar LDA"
   ]
  },
  {
   "cell_type": "code",
   "execution_count": null,
   "metadata": {
    "slideshow": {
     "slide_type": "fragment"
    }
   },
   "outputs": [],
   "source": []
  },
  {
   "cell_type": "markdown",
   "metadata": {
    "slideshow": {
     "slide_type": "slide"
    }
   },
   "source": [
    "## Laboratorio:\n",
    "\n",
    "* Construir las funciones de densidad de probabilidad para $P(X|Male)$ y $P(X|Female)$.\n",
    "* Clasificar una imagen utilizando el Teorema de Bayes $P(Male|X)$"
   ]
  }
 ],
 "metadata": {
  "celltoolbar": "Slideshow",
  "kernelspec": {
   "display_name": "Python 3",
   "language": "python",
   "name": "python3"
  },
  "language_info": {
   "codemirror_mode": {
    "name": "ipython",
    "version": 3
   },
   "file_extension": ".py",
   "mimetype": "text/x-python",
   "name": "python",
   "nbconvert_exporter": "python",
   "pygments_lexer": "ipython3",
   "version": "3.7.9"
  }
 },
 "nbformat": 4,
 "nbformat_minor": 4
}
