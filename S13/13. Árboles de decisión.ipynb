{
 "cells": [
  {
   "cell_type": "markdown",
   "metadata": {
    "slideshow": {
     "slide_type": "slide"
    }
   },
   "source": [
    "![](https://drive.google.com/uc?export=view&id=1-5X9OUkA-C2Ih1gOS9Jd7GmkTWUEpDg1)\n",
    "\n",
    "# Aprendizaje automático: Árbol de decisión ID3\n",
    "\n",
    "## Introducción a Data Science\n",
    "   \n",
    "<center>\n",
    "    <img src='images/tree.webp'style=\"width: 300px;\">\n",
    "</center>\n",
    "\n",
    "**Profesor**: Juan Bekios Calfa\n",
    "\n",
    "**Carreras**: ICCI, IECI e IenCI\n",
    "\n",
    "<sub><sup>Inteligencia Artificial: Un Enfoque Moderno [Link](https://amzn.to/2VCZn20).</sup></sub> "
   ]
  },
  {
   "cell_type": "markdown",
   "metadata": {
    "slideshow": {
     "slide_type": "slide"
    }
   },
   "source": [
    "## Introducción\n",
    "\n",
    "   \n",
    "Los árboles de decisión es una técnica de **aprendizaje automático supervisado** muy utilizada en muchas aplicaciones de negocios, ciencia, etc. Como su nombre indica, esta técnica de **machine learning** toma una serie de decisiones en forma de árbol. \n",
    "\n",
    "Los **nodos intermedios** y las ramas representan soluciones intemedias. Los **nodos finales** (las hojas) nos dan la predicción que vamos buscando.\n",
    "\n",
    "Los **árboles de decisión** pueden usarse para resolver problemas de **clasificación** y de **regresión**."
   ]
  },
  {
   "cell_type": "markdown",
   "metadata": {
    "slideshow": {
     "slide_type": "slide"
    }
   },
   "source": [
    "## Introducción\n",
    "### Tipos de técnicas y algoritmos\n",
    "\n",
    "   \n",
    "* **Motivación:** Clasificación **simbólica** simple mediante análisis estadístico y teoría de la información.\n",
    "* **Descripción:** Cada **nodo interno** es una pregunta sobre alguna característica y cada **nodo hoja** es una clase.\n",
    "* **Desventajas:**\n",
    "  * Requiere de muchos ejemplos.\n",
    "  * No se garantiza solución óptima\n",
    "\n"
   ]
  },
  {
   "cell_type": "markdown",
   "metadata": {
    "slideshow": {
     "slide_type": "slide"
    }
   },
   "source": [
    "## Características (Atributos de entrada)\n",
    "### Ejemplo: Ir a comer a un restaurante\n",
    "\n",
    "- Existen alternativas (Sí/No).\n",
    "- Tiene bar (Sí/No).\n",
    "- Viernes/Sábado (Sí/No).\n",
    "- Tenemos Hambre (Sí/No).\n",
    "- Clientes (Muchos/Algunos/Ninguno).\n",
    "- Precio ($, $$, $$$).\n",
    "- Lloviendo (Sí/No).\n",
    "- Tipo (pizza, frances, etc.).\n",
    "- Espera Estimada (<10, 10-30, 30-60, >60)\n"
   ]
  },
  {
   "cell_type": "markdown",
   "metadata": {
    "slideshow": {
     "slide_type": "slide"
    }
   },
   "source": [
    "## Construir un árbol de decisión para ir al mejor\n",
    "\n",
    "\n",
    "<center>\n",
    "    <img src='images/arbol-ir-a-comer.png'style=\"width: 800px;\">\n",
    "</center>\n"
   ]
  },
  {
   "cell_type": "markdown",
   "metadata": {
    "slideshow": {
     "slide_type": "slide"
    }
   },
   "source": [
    "## Introducción\n",
    "\n",
    "### Ejemplo\n",
    "\n",
    "<center>\n",
    "    <img src='images/tabla-ir-a-comer.png'style=\"width: 800px;\">\n",
    "</center>\n"
   ]
  },
  {
   "cell_type": "markdown",
   "metadata": {
    "slideshow": {
     "slide_type": "slide"
    }
   },
   "source": [
    "## Concepto de entropía\n",
    "\n",
    "### Ejemplo\n",
    "\n",
    "<center>\n",
    "    <img src='images/arbol-sin-entropia.png'style=\"width: 700px;\">\n",
    "</center>\n"
   ]
  },
  {
   "cell_type": "markdown",
   "metadata": {
    "slideshow": {
     "slide_type": "fragment"
    }
   },
   "source": [
    "Hay **entropia**, entonces tenemos una **baja ganancia de información**."
   ]
  },
  {
   "cell_type": "markdown",
   "metadata": {
    "slideshow": {
     "slide_type": "slide"
    }
   },
   "source": [
    "## Concepto de entropía\n",
    "\n",
    "### Ejemplo\n",
    "\n",
    "<center>\n",
    "    <img src='images/arbol-con-entropia.png'style=\"width: 500px;\">\n",
    "</center>\n"
   ]
  },
  {
   "cell_type": "markdown",
   "metadata": {
    "slideshow": {
     "slide_type": "fragment"
    }
   },
   "source": [
    "No hay **entropia**, entonces tenemos una **alta ganancia de información**."
   ]
  },
  {
   "cell_type": "markdown",
   "metadata": {
    "slideshow": {
     "slide_type": "slide"
    }
   },
   "source": [
    "## Nomenclarura\n",
    "\n",
    "- E: conjunto de ejemplos. $E_x$ : ejemplo x.\n",
    "- A: conjunto de atributos. $A_y$ : atributo y.\n",
    "- $V_y$ : conjunto de valores del atributo y.\n",
    "- C: conjunto de clases (etiquetas).\n",
    "- $A_{yx}$ : atributo y en el ejemplo x.\n",
    "- $V_{yx}$ : valor del atributo y en el ejemplo x.\n",
    "- $C_x$ : clase del ejemplo x.\n",
    "- $n_z$ : número de ejemplos que cumplen z.\n",
    "\n"
   ]
  },
  {
   "cell_type": "markdown",
   "metadata": {
    "slideshow": {
     "slide_type": "slide"
    }
   },
   "source": [
    "## Ganancia y entropía\n",
    "\n",
    "$Ganancia(A+B)=Entropía(A)-Entropía(A+B)$\n",
    "\n",
    "$Entropía(Z)=P(Z)\\cdot Información(Z)$\n",
    "\n",
    "$Información(Z)=-\\log_2(P(Z))  :\\log_2\\equiv bits$\n",
    "\n",
    "$Entropía(Z)=-\\sum_{i=1}^N P(Z)\\cdot \\log_2(P(Z))$\n",
    "\n",
    "$Entropía(Z=z)=-\\sum_{i=1}^N\\frac{cant(Z=z)}{cant(Z)}\\cdot \\log_2 \\left({\\frac{cant(Z=z)}{cant(Z)}}{}\\right)$"
   ]
  },
  {
   "cell_type": "markdown",
   "metadata": {
    "slideshow": {
     "slide_type": "slide"
    }
   },
   "source": [
    "## Ganacia de atributos\n",
    "\n",
    "Hay que **elegir el atributo** que aporte la **máxima ganancia de información**:\n",
    "\n",
    "* Ganancia(E, $A_y$) = Entropía(E) – Entropía(E, $A_y$)\n",
    "* Pero Entropía(E) es constante, luego maximizar Ganancia(E, $A_y$) es lo mismo que minimizar Entropía(E, $A_y$)"
   ]
  },
  {
   "cell_type": "markdown",
   "metadata": {
    "slideshow": {
     "slide_type": "slide"
    }
   },
   "source": [
    "## Entropía de atributos\n",
    "\n",
    "$Entropía(E, $A_y$, $V_y$)=-\\sum_{k=1}^C\\frac{n_{yvk}}{n_{yv}}\\cdot \\log_2 \\left({\\frac{n_{yvk}}{n_{yv}}}\\right)$\n",
    "\n",
    "$Entropía(E, $A_y$)=\\sum_{v=1}^{V_y}\\frac{n_{yv}}{N}\\cdot Entropía(E, A_y, V_y=v)$\n",
    "\n",
    "$Entropía(E)= -\\sum_{k=1}^C\\frac{n_{k}}{N}\\cdot \\log_2 \\left({\\frac{n_k}{N}}\\right)$"
   ]
  },
  {
   "cell_type": "markdown",
   "metadata": {
    "slideshow": {
     "slide_type": "slide"
    }
   },
   "source": [
    "## Entropía de atributos\n",
    "\n",
    "<center>\n",
    "    <img src='images/entropia-E.png'style=\"width: 900px;\">\n",
    "</center>"
   ]
  },
  {
   "cell_type": "markdown",
   "metadata": {
    "slideshow": {
     "slide_type": "slide"
    }
   },
   "source": [
    "## Entropía de atributos\n",
    "\n",
    "<center>\n",
    "    <img src='images/entropia_E_A.png'style=\"width: 900px;\">\n",
    "</center>"
   ]
  },
  {
   "cell_type": "markdown",
   "metadata": {
    "slideshow": {
     "slide_type": "slide"
    }
   },
   "source": [
    "## Entropía de atributos\n",
    "\n",
    "<center>\n",
    "    <img src='images/entropia_E_A_V.png'style=\"width: 900px;\">\n",
    "</center>"
   ]
  },
  {
   "cell_type": "markdown",
   "metadata": {
    "slideshow": {
     "slide_type": "slide"
    }
   },
   "source": [
    "## Introducción\n",
    "\n",
    "### Ejemplo\n",
    "\n",
    "<center>\n",
    "    <img src='images/tabla-ir-a-comer.png'style=\"width: 300px;\">\n",
    "</center>\n",
    "\n",
    "$Ganancia(E, A_y=Clientes)=1-\\left[{\\frac{2}{12}\\cdot Entropía(E, A_y=Clientes, V_y=None) + \n",
    "\\frac{4}{12}\\cdot  Entropía(E, A_y=Clientes, V_y=Some) +\\frac{6}{12}\\cdot  Entropía(E, A_y=Clientes, V_y=Full)}\\right]$\n",
    "\n",
    "$=0,541$\n",
    "\n",
    "$Ganancia(E, A_y=Tipo)=0$"
   ]
  },
  {
   "cell_type": "markdown",
   "metadata": {
    "slideshow": {
     "slide_type": "slide"
    }
   },
   "source": [
    "## Algoritmo ID3 (Pseudocódigo)\n",
    "\n",
    "```\n",
    "FUNCIÓN ID3(ejemplos, atributos, nodo) RETORNA nodo\n",
    "  (mayor, porcentaje) = CLASE-MINORITARIA(ejemplos)\n",
    "  SI atributos.VACIO() o porcentaje > umbral ENTONCES \n",
    "    nodo.clase = mayor\n",
    "  EN CASO CONTRARIO\n",
    "    atributo = MÁXIMA-GANANCIA(ejemplos, atributos)\n",
    "    nodo.pregunta = atributo\n",
    "    POR CADA valor EN atributo.VALORES HACER\n",
    "      nuevo = CREAR-NODO(atributo, valor)\n",
    "      nodo.HIJOS.AGREGAR(nuevo)\n",
    "      atributos2 = atributos.QUITAR(atributos)\n",
    "      ejemplos 2 = ejemplos.QUITAR(atributos, valor)\n",
    "      ID3(ejemplos2, atributos2, nuevo)\n",
    "  RETORNA nodo\n",
    "```"
   ]
  },
  {
   "cell_type": "markdown",
   "metadata": {
    "slideshow": {
     "slide_type": "slide"
    }
   },
   "source": [
    "## Análisis\n",
    "\n",
    "* **Complejidad Espacio:** Lineal/polinómico\n",
    "* **Complejidad tiempo:** Polinómico/exponencial\n",
    "* **Hiperparámetros:** Umbral\n",
    "* **Limitaciones:**\n",
    "  * Sólo clasificación (clases discretas)\n",
    "  * Sólo regresión lineal\n",
    "  * Pocos atributos y valores\n",
    "  * No tiene en cuenta costos de atributos\n",
    "  * No garantiza el óptimo"
   ]
  },
  {
   "cell_type": "markdown",
   "metadata": {
    "slideshow": {
     "slide_type": "slide"
    }
   },
   "source": [
    "## Algoritmo ID3: Implementación en Python\n",
    "\n",
    "Se adaptará el ejercicio: https://scikit-learn.org/stable/modules/tree.html#classification\n",
    "\n",
    "\n",
    "\n",
    "\n"
   ]
  },
  {
   "cell_type": "code",
   "execution_count": 17,
   "metadata": {
    "slideshow": {
     "slide_type": "slide"
    }
   },
   "outputs": [],
   "source": [
    "from sklearn.datasets import load_iris\n",
    "from sklearn import tree\n",
    "\n",
    "iris = load_iris()\n",
    "\n",
    "X, y = iris.data, iris.target\n",
    "clf = tree.DecisionTreeClassifier()\n",
    "clf = clf.fit(X, y)"
   ]
  },
  {
   "cell_type": "code",
   "execution_count": 18,
   "metadata": {
    "slideshow": {
     "slide_type": "slide"
    }
   },
   "outputs": [
    {
     "data": {
      "text/plain": [
       "[Text(167.4, 199.32, 'X[3] <= 0.8\\ngini = 0.667\\nsamples = 150\\nvalue = [50, 50, 50]'),\n",
       " Text(141.64615384615385, 163.07999999999998, 'gini = 0.0\\nsamples = 50\\nvalue = [50, 0, 0]'),\n",
       " Text(193.15384615384616, 163.07999999999998, 'X[3] <= 1.75\\ngini = 0.5\\nsamples = 100\\nvalue = [0, 50, 50]'),\n",
       " Text(103.01538461538462, 126.83999999999999, 'X[2] <= 4.95\\ngini = 0.168\\nsamples = 54\\nvalue = [0, 49, 5]'),\n",
       " Text(51.50769230769231, 90.6, 'X[3] <= 1.65\\ngini = 0.041\\nsamples = 48\\nvalue = [0, 47, 1]'),\n",
       " Text(25.753846153846155, 54.359999999999985, 'gini = 0.0\\nsamples = 47\\nvalue = [0, 47, 0]'),\n",
       " Text(77.26153846153846, 54.359999999999985, 'gini = 0.0\\nsamples = 1\\nvalue = [0, 0, 1]'),\n",
       " Text(154.52307692307693, 90.6, 'X[3] <= 1.55\\ngini = 0.444\\nsamples = 6\\nvalue = [0, 2, 4]'),\n",
       " Text(128.76923076923077, 54.359999999999985, 'gini = 0.0\\nsamples = 3\\nvalue = [0, 0, 3]'),\n",
       " Text(180.27692307692308, 54.359999999999985, 'X[2] <= 5.45\\ngini = 0.444\\nsamples = 3\\nvalue = [0, 2, 1]'),\n",
       " Text(154.52307692307693, 18.119999999999976, 'gini = 0.0\\nsamples = 2\\nvalue = [0, 2, 0]'),\n",
       " Text(206.03076923076924, 18.119999999999976, 'gini = 0.0\\nsamples = 1\\nvalue = [0, 0, 1]'),\n",
       " Text(283.2923076923077, 126.83999999999999, 'X[2] <= 4.85\\ngini = 0.043\\nsamples = 46\\nvalue = [0, 1, 45]'),\n",
       " Text(257.53846153846155, 90.6, 'X[0] <= 5.95\\ngini = 0.444\\nsamples = 3\\nvalue = [0, 1, 2]'),\n",
       " Text(231.7846153846154, 54.359999999999985, 'gini = 0.0\\nsamples = 1\\nvalue = [0, 1, 0]'),\n",
       " Text(283.2923076923077, 54.359999999999985, 'gini = 0.0\\nsamples = 2\\nvalue = [0, 0, 2]'),\n",
       " Text(309.04615384615386, 90.6, 'gini = 0.0\\nsamples = 43\\nvalue = [0, 0, 43]')]"
      ]
     },
     "execution_count": 18,
     "metadata": {},
     "output_type": "execute_result"
    },
    {
     "data": {
      "image/png": "[encoded data removed]",
      "text/plain": [
       "<Figure size 432x288 with 1 Axes>"
      ]
     },
     "metadata": {
      "needs_background": "light"
     },
     "output_type": "display_data"
    }
   ],
   "source": [
    "tree.plot_tree(clf) "
   ]
  },
  {
   "cell_type": "code",
   "execution_count": 19,
   "metadata": {
    "slideshow": {
     "slide_type": "slide"
    }
   },
   "outputs": [
    {
     "data": {
      "text/plain": [
       "[Text(334.8, 597.96, 'X[3] <= 0.8\\ngini = 0.667\\nsamples = 150\\nvalue = [50, 50, 50]'),\n",
       " Text(283.2923076923077, 489.24, 'gini = 0.0\\nsamples = 50\\nvalue = [50, 0, 0]'),\n",
       " Text(386.3076923076923, 489.24, 'X[3] <= 1.75\\ngini = 0.5\\nsamples = 100\\nvalue = [0, 50, 50]'),\n",
       " Text(206.03076923076924, 380.52000000000004, 'X[2] <= 4.95\\ngini = 0.168\\nsamples = 54\\nvalue = [0, 49, 5]'),\n",
       " Text(103.01538461538462, 271.8, 'X[3] <= 1.65\\ngini = 0.041\\nsamples = 48\\nvalue = [0, 47, 1]'),\n",
       " Text(51.50769230769231, 163.07999999999998, 'gini = 0.0\\nsamples = 47\\nvalue = [0, 47, 0]'),\n",
       " Text(154.52307692307693, 163.07999999999998, 'gini = 0.0\\nsamples = 1\\nvalue = [0, 0, 1]'),\n",
       " Text(309.04615384615386, 271.8, 'X[3] <= 1.55\\ngini = 0.444\\nsamples = 6\\nvalue = [0, 2, 4]'),\n",
       " Text(257.53846153846155, 163.07999999999998, 'gini = 0.0\\nsamples = 3\\nvalue = [0, 0, 3]'),\n",
       " Text(360.55384615384617, 163.07999999999998, 'X[2] <= 5.45\\ngini = 0.444\\nsamples = 3\\nvalue = [0, 2, 1]'),\n",
       " Text(309.04615384615386, 54.360000000000014, 'gini = 0.0\\nsamples = 2\\nvalue = [0, 2, 0]'),\n",
       " Text(412.0615384615385, 54.360000000000014, 'gini = 0.0\\nsamples = 1\\nvalue = [0, 0, 1]'),\n",
       " Text(566.5846153846154, 380.52000000000004, 'X[2] <= 4.85\\ngini = 0.043\\nsamples = 46\\nvalue = [0, 1, 45]'),\n",
       " Text(515.0769230769231, 271.8, 'X[0] <= 5.95\\ngini = 0.444\\nsamples = 3\\nvalue = [0, 1, 2]'),\n",
       " Text(463.5692307692308, 163.07999999999998, 'gini = 0.0\\nsamples = 1\\nvalue = [0, 1, 0]'),\n",
       " Text(566.5846153846154, 163.07999999999998, 'gini = 0.0\\nsamples = 2\\nvalue = [0, 0, 2]'),\n",
       " Text(618.0923076923077, 271.8, 'gini = 0.0\\nsamples = 43\\nvalue = [0, 0, 43]')]"
      ]
     },
     "execution_count": 19,
     "metadata": {},
     "output_type": "execute_result"
    },
    {
     "data": {
      "image/png": "[encoded data removed]",
      "text/plain": [
       "<Figure size 864x864 with 1 Axes>"
      ]
     },
     "metadata": {
      "needs_background": "light"
     },
     "output_type": "display_data"
    }
   ],
   "source": [
    "import matplotlib.pyplot as plt\n",
    "\n",
    "plt.figure(figsize=(12,12))  \n",
    "tree.plot_tree(clf, fontsize=10)"
   ]
  },
  {
   "cell_type": "code",
   "execution_count": 23,
   "metadata": {
    "slideshow": {
     "slide_type": "slide"
    }
   },
   "outputs": [
    {
     "name": "stdout",
     "output_type": "stream",
     "text": [
      "|--- petal width (cm) <= 0.80\n",
      "|   |--- class: 0\n",
      "|--- petal width (cm) >  0.80\n",
      "|   |--- petal width (cm) <= 1.75\n",
      "|   |   |--- class: 1\n",
      "|   |--- petal width (cm) >  1.75\n",
      "|   |   |--- class: 2\n",
      "\n"
     ]
    }
   ],
   "source": [
    "from sklearn.datasets import load_iris\n",
    "from sklearn.tree import DecisionTreeClassifier\n",
    "from sklearn.tree import export_text\n",
    "\n",
    "iris = load_iris()\n",
    "decision_tree = DecisionTreeClassifier(random_state=0, max_depth=2)\n",
    "decision_tree = decision_tree.fit(iris.data, iris.target)\n",
    "r = export_text(decision_tree, feature_names=iris['feature_names'])\n",
    "print(r) "
   ]
  },
  {
   "cell_type": "code",
   "execution_count": 24,
   "metadata": {
    "slideshow": {
     "slide_type": "slide"
    }
   },
   "outputs": [
    {
     "name": "stdout",
     "output_type": "stream",
     "text": [
      "Requirement already satisfied: graphviz in /home/atenea/anaconda3/envs/intro-data-science/lib/python3.9/site-packages (0.17)\r\n"
     ]
    }
   ],
   "source": [
    "!pip install graphviz\n"
   ]
  },
  {
   "cell_type": "code",
   "execution_count": null,
   "metadata": {
    "slideshow": {
     "slide_type": "slide"
    }
   },
   "outputs": [],
   "source": [
    "import graphviz \n",
    "dot_data = tree.export_graphviz(clf, out_file=None) \n",
    "graph = graphviz.Source(dot_data) \n",
    "graph.render(\"iris\")\n"
   ]
  },
  {
   "cell_type": "code",
   "execution_count": null,
   "metadata": {
    "slideshow": {
     "slide_type": "slide"
    }
   },
   "outputs": [],
   "source": [
    "dot_data = tree.export_graphviz(clf, out_file=None, \n",
    "                     feature_names=iris.feature_names,  \n",
    "                     class_names=iris.target_names,  \n",
    "                     filled=True, rounded=True,  \n",
    "                     special_characters=True)  \n",
    "graph = graphviz.Source(dot_data)  \n",
    "graph "
   ]
  }
 ],
 "metadata": {
  "celltoolbar": "Slideshow",
  "kernelspec": {
   "display_name": "Python 3",
   "language": "python",
   "name": "python3"
  },
  "language_info": {
   "codemirror_mode": {
    "name": "ipython",
    "version": 3
   },
   "file_extension": ".py",
   "mimetype": "text/x-python",
   "name": "python",
   "nbconvert_exporter": "python",
   "pygments_lexer": "ipython3",
   "version": "3.9.5"
  }
 },
 "nbformat": 4,
 "nbformat_minor": 4
}
