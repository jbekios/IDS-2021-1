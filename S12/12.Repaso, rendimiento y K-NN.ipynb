{
 "cells": [
  {
   "cell_type": "markdown",
   "metadata": {
    "slideshow": {
     "slide_type": "slide"
    }
   },
   "source": [
    "![](https://drive.google.com/uc?export=view&id=1-5X9OUkA-C2Ih1gOS9Jd7GmkTWUEpDg1)\n",
    "\n",
    "# Aprendizaje automático y k-NN\n",
    "\n",
    "## Introducción a Data Science\n",
    "   \n",
    "<center>\n",
    "    <img src='images/kNN.jpg'style=\"width: 400px;\">\n",
    "</center>\n",
    "\n",
    "**Profesor**: Juan Bekios Calfa\n",
    "\n",
    "**Carreras**: ICCI, IECI e IenCI\n",
    "\n",
    "<sub><sup>Clasificar con K-Nearest-Neighbor ejemplo en Python [Link](https://www.aprendemachinelearning.com/clasificar-con-k-nearest-neighbor-ejemplo-en-python/).</sup></sub> "
   ]
  },
  {
   "cell_type": "markdown",
   "metadata": {
    "slideshow": {
     "slide_type": "slide"
    }
   },
   "source": [
    "## Introducción\n",
    "\n",
    "   \n",
    "<center>\n",
    "    <img src='images/tipos_de_aprendizaje.jpg'style=\"width: 1000px;\">\n",
    "</center>"
   ]
  },
  {
   "cell_type": "markdown",
   "metadata": {
    "slideshow": {
     "slide_type": "slide"
    }
   },
   "source": [
    "## Introducción\n",
    "### Tipos de técnicas y algoritmos\n",
    "\n",
    "   \n",
    "<center>\n",
    "    <img src='images/ML_models.png'style=\"width: 1000px;\">\n",
    "</center>\n",
    "\n"
   ]
  },
  {
   "cell_type": "markdown",
   "metadata": {
    "slideshow": {
     "slide_type": "slide"
    }
   },
   "source": [
    "## Introducción\n",
    "### Validación: Conjunto de entrenamiento y conjunto de test\n",
    "\n",
    "### Ejemplo\n",
    "\n",
    "<center>\n",
    "    <img src='images/train_test.png'style=\"width: 1000px;\">\n",
    "</center>\n"
   ]
  },
  {
   "cell_type": "markdown",
   "metadata": {
    "slideshow": {
     "slide_type": "slide"
    }
   },
   "source": [
    "## Introducción\n",
    "### Validación cruzada\n",
    "\n",
    "<center>\n",
    "    <img src='images/crossvalidation_concept.png'style=\"width: 800px;\">\n",
    "</center>\n"
   ]
  },
  {
   "cell_type": "markdown",
   "metadata": {
    "slideshow": {
     "slide_type": "slide"
    }
   },
   "source": [
    "## Introducción\n",
    "### Sesgo (bias) y varianza\n",
    "\n",
    "### Ejemplo\n",
    "\n",
    "<center>\n",
    "    <img src='images/sesgo_varianza.png'style=\"width: 400px;\">\n",
    "</center>\n"
   ]
  },
  {
   "cell_type": "markdown",
   "metadata": {
    "slideshow": {
     "slide_type": "slide"
    }
   },
   "source": [
    "## Introducción\n",
    "### Sobreajuste u “overfitting”\n",
    "\n",
    "Explicar el conjunto de datos de entrenamiento, en lugar de encontrar patrones que generalizan. El modelo se ajusta bien al conjunto de datos de entrenamiento pero falla en el conjunto de datos de test.\n",
    "\n",
    "### Ejemplo\n",
    "\n",
    "<center>\n",
    "    <img src='images/overfitting.png'style=\"width: 900px;\">\n",
    "</center>\n"
   ]
  },
  {
   "cell_type": "markdown",
   "metadata": {
    "slideshow": {
     "slide_type": "slide"
    }
   },
   "source": [
    "## Introducción\n",
    "### Matriz de confusión para explicar el modelo\n",
    "\n",
    "<center>\n",
    "    <img src='images/confusion_matix_example.png'style=\"width: 250px;\">\n",
    "</center>\n",
    "\n",
    "La matriz está compuesta por:\n",
    "\n",
    "* La *variable de salida* tiene dos valores: positivo o negativo\n",
    "* Las *columnas* representan los valores predichos del modelo de la variable objetivo.\n",
    "* Las *filas* representan los valores reales (observaciones, valores reales) de la variable objetivo.\n",
    "\n",
    "<sub><sup>Matriz de confusión en _Machine Learning_. Explicado paso a paso. [Link](https://nataliaacevedo.com/matriz-de-confusion-en-machine-learning-explicado-paso-a-paso/).</sup></sub> "
   ]
  },
  {
   "cell_type": "markdown",
   "metadata": {
    "slideshow": {
     "slide_type": "slide"
    }
   },
   "source": [
    "## Introducción\n",
    "### Matriz de confusión para explicar el modelo\n",
    "\n",
    "<center>\n",
    "    <img src='images/confusion_matix_example.png'style=\"width: 600px;\">\n",
    "</center>"
   ]
  },
  {
   "cell_type": "markdown",
   "metadata": {
    "slideshow": {
     "slide_type": "slide"
    }
   },
   "source": [
    "## Introducción\n",
    "### Matriz de confusión para explicar el modelo\n",
    "\n",
    "   \n",
    "<center>\n",
    "    <img src='images/m_confusion2.png'style=\"width: 300px;\">\n",
    "</center>\n",
    "\n",
    "* VP es la cantidad de positivos que fueron clasificados correctamente como positivos por el modelo.\n",
    "* VN es la cantidad de negativos que fueron clasificados correctamente como negativos por el modelo.\n",
    "* FN es la cantidad de positivos que fueron clasificados incorrectamente como negativos.\n",
    "* FP es la cantidad de negativos que fueron clasificados incorrectamente como positivos.\n",
    "\n",
    "<sub><sup>Evaluación de modelos de clasificación (Pubs by RStudio). [Link](https://rpubs.com/chzelada/275494).</sup></sub> "
   ]
  },
  {
   "cell_type": "markdown",
   "metadata": {
    "slideshow": {
     "slide_type": "slide"
    }
   },
   "source": [
    "## Introducción\n",
    "### Métricas para explicar el modelo a partir de la matriz de confusión\n",
    "\n",
    "* *Exactitud, tasa de acierto (_Accuracy)_*: Se define como el porcentaje de datos que fue clasificado correctamente.\n",
    "\n",
    "$$\n",
    "Tasa\\; de\\; acierto=\\frac{VP+VN}{Total}\n",
    "$$\n",
    "\n",
    "* Tasa de error (_Misclassification Rate_): Porcentaje de los datos que se clasifica incorrectamente.\n",
    "\n",
    "$$\n",
    "Tasa\\; de\\; error=\\frac{FP+FN}{Total}\n",
    "$$\n",
    "\n"
   ]
  },
  {
   "cell_type": "markdown",
   "metadata": {
    "slideshow": {
     "slide_type": "slide"
    }
   },
   "source": [
    "## Introducción\n",
    "### Métricas para explicar el modelo a partir de la matriz de confusión\n",
    "\n",
    "* Sensibilidad, exhaustividad, (Tasa de verdaderos positivos). _Recall_, _sensitivity_, _true positive rate_, en inglés.\n",
    "\n",
    "$$\n",
    "Recall=\\frac{VP}{Total\\; Positivos}\n",
    "$$\n",
    "\n",
    "* Especificidad, tasa de verdaderos negativos. _Especificity_, _true negative rate_, en inglés.\n",
    "\n",
    "$$\n",
    "Especificidad=\\frac{VN}{Total Negativos}\n",
    "$$"
   ]
  },
  {
   "cell_type": "markdown",
   "metadata": {
    "slideshow": {
     "slide_type": "slide"
    }
   },
   "source": [
    "## Introducción\n",
    "### Métricas para explicar el modelo a partir de la matriz de confusión\n",
    "\n",
    "* *Precisión:* Cuando predice positivos. Cual de todos esos positivos son realmente positivos.\n",
    "\n",
    "$$\n",
    "Precisión=\\frac{VP}{Total\\; clasificados\\; positivos}\n",
    "$$\n",
    "\n",
    "* *Valor de predicción negativo:*. Cuando predice negativo. Cual es realmente el porcentaje de negativos.\n",
    "\n",
    "$$\n",
    "VPN=\\frac{VN}{Total\\; clasificados\\; negativos}\n",
    "$$\n",
    "\n"
   ]
  },
  {
   "cell_type": "markdown",
   "metadata": {
    "slideshow": {
     "slide_type": "slide"
    }
   },
   "source": [
    "## Introducción\n",
    "### Métricas para explicar el modelo a partir de la matriz de confusión\n",
    "\n",
    "* *F1-_score_:* De una clase es la media armónica de la precisión y el _recall_\n",
    "\n",
    "$$\n",
    "F1-score=\\frac{2\\times Precision \\times recall}{precision + recall}\n",
    "$$\n",
    "\n",
    "\n",
    "\n"
   ]
  },
  {
   "cell_type": "markdown",
   "metadata": {
    "slideshow": {
     "slide_type": "slide"
    }
   },
   "source": [
    "## Introducción\n",
    "### Métricas para explicar el modelo a partir de la matriz de confusión\n",
    "\n",
    "Tenemos cuatro casos posibles para cada clase:\n",
    "\n",
    "* **Alta precisión** y **alto _recall_**: el modelo maneja perfectamente esa clase\n",
    "* **Alta precisión** y **bajo _recall_**: el modelo no detecta la clase muy bien, pero cuando lo hace es altamente confiable.\n",
    "* **Baja precisión** y **alto _recall_**: El modelo detecta bien la clase pero también incluye muestras de otras clases.\n",
    "* **Baja precisión** y **bajo _recall_**: El modelo no logra clasificar la clase correctamente.\n",
    "\n",
    "Cuando tenemos un *conjunto desbalanceado*, suele ocurrir que obtenemos un *alto valor de precisión* en la clase Mayoritaria \n",
    "y un *bajo recall* en la *clase Minoritaria*"
   ]
  },
  {
   "cell_type": "markdown",
   "metadata": {
    "slideshow": {
     "slide_type": "slide"
    }
   },
   "source": [
    "## Introducción\n",
    "### Métricas para explicar el modelo a partir de la matriz de confusión\n",
    "\n",
    "Ejemplo: Se construye un modelo mediante una técnica de aprendizaje automatico para clasificar personas enfermas o no enfermas de COVID-19. El modelo arroja los siguientes resultados.\n",
    "\n",
    "* TP: 30\n",
    "* TN : 930\n",
    "* FP : 30 \n",
    "* FN: 10\n",
    "\n",
    "Si calculamos la tasa de acierto (_accuracy_) del modelo nos queda:\n",
    "\n",
    "$$\n",
    "Tasa\\; de\\; acierto=\\frac{30+930}{30+30+930+10}=0.96\n",
    "$$"
   ]
  },
  {
   "cell_type": "markdown",
   "metadata": {
    "slideshow": {
     "slide_type": "slide"
    }
   },
   "source": [
    "## Introducción\n",
    "### Métricas para explicar el modelo a partir de la matriz de confusión\n",
    "\n",
    "Ejemplo: Se construye un modelo mediante una técnica de aprendizaje automatico para clasificar personas enfermas o no enfermas de COVID-19. El modelo arroja los siguientes resultados.\n",
    "\n",
    "* TP: 30, TN : 930\n",
    "* FP : 30, FN: 10\n",
    "\n",
    "|                    |            | Predicción del Modelo |            |\n",
    "|--------------------|------------|:---------------------:|:----------:|\n",
    "|                    |            |        enfermo        | no enfermo |\n",
    "| Observación (Real) |    enfermo |           30          |     30     |\n",
    "|                    | no enfermo |           10          |     930    |"
   ]
  },
  {
   "cell_type": "markdown",
   "metadata": {
    "slideshow": {
     "slide_type": "slide"
    }
   },
   "source": [
    "## Introducción\n",
    "### Métricas para explicar el modelo a partir de la matriz de confusión\n",
    "\n",
    "Ejemplo: Se construye un modelo mediante una técnica de aprendizaje automatico para clasificar personas enfermas o no enfermas de COVID-19. El modelo arroja los siguientes resultados.\n",
    "\n",
    "* TP: 30, TN : 930\n",
    "* FP : 30, FN: 10\n",
    "\n",
    "|                    |            | Predicción del Modelo |            |\n",
    "|--------------------|------------|:---------------------:|:----------:|\n",
    "|                    |            |        enfermo        | no enfermo |\n",
    "| Observación (Real) |    enfermo |           30          |     10     |\n",
    "|                    | no enfermo |           30          |     930    |"
   ]
  },
  {
   "cell_type": "markdown",
   "metadata": {
    "slideshow": {
     "slide_type": "slide"
    }
   },
   "source": [
    "## Introducción\n",
    "### Métricas para explicar el modelo a partir de la matriz de confusión\n",
    "\n",
    "Ejemplo: Se construye un modelo mediante una técnica de aprendizaje automatico para clasificar personas enfermas o no enfermas de COVID-19. El modelo arroja los siguientes resultados.\n",
    "\n",
    "|                    |            | Predicción del Modelo |            |\n",
    "|--------------------|------------|:---------------------:|:----------:|\n",
    "|                    |            |        enfermo        | no enfermo |\n",
    "| Observación (Real) |    enfermo |           30          |     30     |\n",
    "|                    | no enfermo |           10          |     930    |\n",
    "\n",
    "$$\n",
    "Precision=\\frac{VP}{Total\\; clasificados\\; positivos}=\\frac{30}{30+30}=0.5\n",
    "$$\n",
    "\n",
    "$$\n",
    "Recall=\\frac{VP}{Total\\; Positivos}=\\frac{30}{30+10}=0.75\n",
    "$$\n"
   ]
  },
  {
   "cell_type": "markdown",
   "metadata": {
    "slideshow": {
     "slide_type": "slide"
    }
   },
   "source": [
    "## Algoritmo k-NN\n",
    "### Definición\n",
    "\n",
    "Es un método que simplemente busca en las observaciones más cercanas a la que se está tratando de predecir y clasifica el punto de interés basado en la mayoría de datos que le rodean. \n",
    "\n",
    "\n",
    "\n",
    "*    **Supervisado**: esto -brevemente- quiere decir que tenemos etiquetado nuestro conjunto de datos de entrenamiento, con la clase o resultado esperado dada “una fila” de datos.\n",
    "*    **No paramétrico**: No hace suposiciones explícitas sobre la forma funcional de los datos.\n",
    "*    **Basado en Instancia**: Esto quiere decir que nuestro algoritmo no aprende explícitamente un modelo (como por ejemplo en Regresión Logística o árboles de decisión). En cambio memoriza las instancias de entrenamiento que son usadas como “base de conocimiento” para la fase de predicción.\n"
   ]
  },
  {
   "cell_type": "markdown",
   "metadata": {
    "slideshow": {
     "slide_type": "slide"
    }
   },
   "source": [
    "## Algoritmo k-NN\n",
    "### Usos\n",
    "\n",
    "*    Sistemas de recomendación\n",
    "*    Búsqueda semántica\n",
    "*    Detección de anomalías\n",
    "*    Detección de pose en cuerpos humanos\n",
    "*    Detección de acciones en escenas de video"
   ]
  },
  {
   "cell_type": "markdown",
   "metadata": {
    "slideshow": {
     "slide_type": "slide"
    }
   },
   "source": [
    "## Algoritmo k-NN\n",
    "### Ventajas y desventajas\n",
    "\n",
    "**Ventaja**\n",
    "*  Es sencillo de aprender e implementar.\n",
    "*  Es fácil su interpretación.\n",
    "\n",
    "**Desventajas**\n",
    "*  Utiliza todo el conjunto de datos, requiere mucha memoria.\n",
    "*  Si el conjunto de datos es grande, cada vez que se estime una nueva etiqueta (valor clase), se debe calcular todo desde cero, requiere uso intensivo de CPU.\n",
    "\n",
    "kNN es un algoritmo ampliamente usado pero funciona mejor con conjunto de datos pequeños y sin una gran cantidad de atributos de entrada. "
   ]
  },
  {
   "cell_type": "markdown",
   "metadata": {
    "slideshow": {
     "slide_type": "slide"
    }
   },
   "source": [
    "## Algoritmo k-NN\n",
    "### Resumen\n",
    "\n",
    "\n",
    "kNN es un algoritmo ampliamente usado pero funciona mejor con conjunto de datos pequeños y sin una gran cantidad de atributos de entrada.\n",
    "\n",
    "Su rendimiento mejora en conjunto de datos balanceados. Todas las clases tienen la misma cantidad de observaciones o puntos."
   ]
  },
  {
   "cell_type": "markdown",
   "metadata": {
    "slideshow": {
     "slide_type": "slide"
    }
   },
   "source": [
    "## Algoritmo k-NN\n",
    "### Funcionamiento\n",
    "\n",
    "\n",
    "\n",
    "1.    Calcular la distancia entre el item a clasificar y el resto de items del dataset de entrenamiento.\n",
    "2.    Seleccionar los “k” elementos más cercanos (con menor distancia, según la función que se use)\n",
    "3.    Realizar una “votación de mayoría” entre los k puntos: los de una clase/etiqueta que \"dominen\" decidirán su clasificación final.\n"
   ]
  },
  {
   "cell_type": "markdown",
   "metadata": {
    "slideshow": {
     "slide_type": "slide"
    }
   },
   "source": [
    "## Algoritmo k-NN\n",
    "### Funcionamiento\n",
    "\n",
    "\n",
    "\n",
    "1.    Calcular la distancia entre el item a clasificar y el resto de items del dataset de entrenamiento.\n",
    "2.    Seleccionar los “k” elementos más cercanos (con menor distancia, según la función que se use)\n",
    "3.    Realizar una “votación de mayoría” entre los k puntos: los de una clase/etiqueta que \"dominen\" decidirán su clasificación final.\n"
   ]
  },
  {
   "cell_type": "markdown",
   "metadata": {
    "slideshow": {
     "slide_type": "slide"
    }
   },
   "source": [
    "## Algoritmo k-NN\n",
    "### Funcionamiento: 0. Cargar el conjunto de entrenamiento\n",
    "\n",
    "\n",
    "\n",
    "<center>\n",
    "    <img src='images/knn1.webp'style=\"width: 600px;\">\n",
    "</center>"
   ]
  },
  {
   "cell_type": "markdown",
   "metadata": {
    "slideshow": {
     "slide_type": "slide"
    }
   },
   "source": [
    "## Algoritmo k-NN\n",
    "### Funcionamiento: 1. Calcular las distancias de todos los puntos del conjunto de entrenamiento con respecto a la nueva observación a clasificar\n",
    "\n",
    "\n",
    "\n",
    "<center>\n",
    "    <img src='images/knn2.webp'style=\"width: 600px;\">\n",
    "</center>"
   ]
  },
  {
   "cell_type": "markdown",
   "metadata": {
    "slideshow": {
     "slide_type": "slide"
    }
   },
   "source": [
    "## Algoritmo k-NN\n",
    "### Funcionamiento: 2. Seleccionar los k elementos más cercanos. (Ejemplo: k=5)\n",
    "\n",
    "\n",
    "\n",
    "<center>\n",
    "    <img src='images/knn3.webp'style=\"width: 600px;\">\n",
    "</center>"
   ]
  },
  {
   "cell_type": "markdown",
   "metadata": {
    "slideshow": {
     "slide_type": "slide"
    }
   },
   "source": [
    "## Algoritmo k-NN\n",
    "### Funcionamiento: 3. De los k más cercanos, asignar la clase mayoritaria.\n",
    "\n",
    "\n",
    "\n",
    "<center>\n",
    "    <img src='images/knn5.webp'style=\"width: 600px;\">\n",
    "</center>"
   ]
  },
  {
   "cell_type": "markdown",
   "metadata": {
    "slideshow": {
     "slide_type": "slide"
    }
   },
   "source": [
    "## Algoritmo k-NN: Implementación en Python\n",
    "\n",
    "Se adaptará el ejercicio: https://scikit-learn.org/stable/auto_examples/neighbors/plot_classification.html#sphx-glr-auto-examples-neighbors-plot-classification-py\n",
    "\n",
    "\n",
    "\n",
    "\n"
   ]
  },
  {
   "cell_type": "code",
   "execution_count": 36,
   "metadata": {
    "slideshow": {
     "slide_type": "slide"
    }
   },
   "outputs": [],
   "source": [
    "import numpy as np\n",
    "import matplotlib.pyplot as plt\n",
    "from sklearn import neighbors, datasets\n",
    "from sklearn.model_selection import train_test_split\n",
    "\n",
    "# Se define la cantidad de vecinos\n",
    "k = 15\n",
    "\n",
    "# Importamos la base de datos de sklearn\n",
    "iris = datasets.load_iris()\n",
    "\n",
    "# Solo se utilizarán las primeras dos dimensiones de los atributos de la base de datos\n",
    "X = iris.data[:, :2]\n",
    "y = iris.target\n",
    "\n",
    "X_train, X_test, y_train, y_test = train_test_split(X, y, test_size=0.2, random_state=0)\n",
    "\n",
    "#X_train.shape, y_train.shape\n",
    "#X_test.shape, y_test.shape"
   ]
  },
  {
   "cell_type": "code",
   "execution_count": 37,
   "metadata": {
    "slideshow": {
     "slide_type": "slide"
    }
   },
   "outputs": [
    {
     "name": "stdout",
     "output_type": "stream",
     "text": [
      "[1 2 0 2 0 1 0 1 2 2 2 2 2 2 2 0 2 1 0 0 1 1 0 0 2 0 0 2 1 0]\n"
     ]
    }
   ],
   "source": [
    "# Clasificación\n",
    "clf = neighbors.KNeighborsClassifier(n_neighbors=k, weights='distance')\n",
    "\n",
    "# Ajuste del modelo\n",
    "clf.fit(X_train, y_train)\n",
    "\n",
    "# Predicción\n",
    "y_pred = clf.predict(X_test)\n",
    "\n",
    "print(y_pred)"
   ]
  },
  {
   "cell_type": "code",
   "execution_count": 38,
   "metadata": {
    "slideshow": {
     "slide_type": "slide"
    }
   },
   "outputs": [
    {
     "name": "stdout",
     "output_type": "stream",
     "text": [
      "              precision    recall  f1-score   support\n",
      "\n",
      "     class 0       1.00      1.00      1.00        11\n",
      "     class 1       0.57      0.31      0.40        13\n",
      "     class 2       0.25      0.50      0.33         6\n",
      "\n",
      "    accuracy                           0.60        30\n",
      "   macro avg       0.61      0.60      0.58        30\n",
      "weighted avg       0.66      0.60      0.61        30\n",
      "\n"
     ]
    }
   ],
   "source": [
    "# Reporte de métricas\n",
    "\n",
    "from sklearn.metrics import classification_report\n",
    "target_names = ['class 0', 'class 1', 'class 2']\n",
    "print(classification_report(y_test, y_pred, target_names=target_names))\n"
   ]
  },
  {
   "cell_type": "code",
   "execution_count": 14,
   "metadata": {},
   "outputs": [
    {
     "data": {
      "text/plain": [
       "array([[11,  0,  0],\n",
       "       [ 0,  5,  8],\n",
       "       [ 0,  2,  4]])"
      ]
     },
     "execution_count": 14,
     "metadata": {},
     "output_type": "execute_result"
    }
   ],
   "source": [
    "# Matriz de confusión\n",
    "\n",
    "from sklearn.metrics import confusion_matrix\n",
    "confusion_matrix(y_test, y_pred)\n"
   ]
  }
 ],
 "metadata": {
  "celltoolbar": "Slideshow",
  "kernelspec": {
   "display_name": "Python 3",
   "language": "python",
   "name": "python3"
  },
  "language_info": {
   "codemirror_mode": {
    "name": "ipython",
    "version": 3
   },
   "file_extension": ".py",
   "mimetype": "text/x-python",
   "name": "python",
   "nbconvert_exporter": "python",
   "pygments_lexer": "ipython3",
   "version": "3.9.5"
  }
 },
 "nbformat": 4,
 "nbformat_minor": 4
}
