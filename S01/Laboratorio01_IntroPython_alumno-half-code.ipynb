{
  "nbformat": 4,
  "nbformat_minor": 0,
  "metadata": {
    "colab": {
      "name": "Laboratorio01_IntroPython_alumno.ipynb",
      "provenance": [],
      "collapsed_sections": []
    },
    "kernelspec": {
      "name": "python3",
      "display_name": "Python 3"
    }
  },
  "cells": [
    {
      "cell_type": "markdown",
      "metadata": {
        "id": "Zfqor7EEFSTU"
      },
      "source": [
        "# Curso: Introducción a Data Science\n",
        "## Laboratorio 01: Introducción a Python\n",
        "**Profesor: Dr. Juan Bekios Calfa**\n",
        "\n",
        "**Temas:**\n",
        "\n",
        "*   Listas\n",
        "*   Matrices \n",
        "*   Carga de datos con pandas\n",
        "*   Gráficos\n",
        "\n",
        "## 1. Uso de listas"
      ]
    },
    {
      "cell_type": "code",
      "metadata": {
        "id": "OHVG8VZUFNA0"
      },
      "source": [
        "# Crear un lista\n",
        "lista = [1, 2, 3, 4]\n",
        "\n",
        "print('Lista: ', lista)\n",
        "print('Largo de la lista', len(lista))\n",
        "\n",
        "# Agregar elementos a una lista\n",
        "lista.append(5)\n",
        "print('Agregar elementos a una lista', lista)\n",
        "\n",
        "# Leer elemento de una lista\n",
        "print('Leer el valor de la lista que está en la posición 3:', lista[2])\n",
        "\n",
        "# Eliminar elementos de una lista\n",
        "a = lista.pop()\n",
        "print('Elemento eliminado:', a)\n",
        "print('La lista actualizada:', lista)\n",
        "\n",
        "# TDA: Que tenga comportamiento de tipo cola\n",
        "from collections import deque\n",
        "\n",
        "pila = deque(lista)\n",
        "\n",
        "print('=== TDA: PILA ===')\n",
        "\n",
        "print('Sacar de la PILA', pila.pop())\n",
        "print('Ver cola actual', pila)\n",
        "print('Agregar un elemento', pila.append(7))\n",
        "print('Agregar un elemento', pila.append(3))\n",
        "print('Ver cola actual', pila)\n",
        "\n",
        "cola = deque(lista)\n",
        "\n",
        "print('=== TDA: COLA ===')\n",
        "\n",
        "print('Sacar de la COLA', cola.popleft())\n",
        "print('Ver cola actual', cola)\n",
        "print('Agregar un elemento', cola.append(7))\n",
        "print('Agregar un elemento', cola.append(3))\n",
        "print('Ver cola actual', cola)"
      ],
      "execution_count": null,
      "outputs": []
    },
    {
      "cell_type": "code",
      "metadata": {
        "id": "WqDHFkgvIrsk"
      },
      "source": [
        "# Range\n",
        "a = range(1,11) #iterador\n",
        "print(a)\n",
        "\n",
        "# Convertir un iterador a lista\n",
        "b = list(range(5, 201, 3))\n",
        "print(b)\n",
        "\n",
        "# Formato como string (f-string)\n",
        "for x in range(1, 11):\n",
        "  print(f'El número: {x:03}, {x*x:3}, {x*x*x:4}')"
      ],
      "execution_count": null,
      "outputs": []
    },
    {
      "cell_type": "markdown",
      "metadata": {
        "id": "dgtwxyvpFSyP"
      },
      "source": [
        "## 2. Matrices\n",
        "\n"
      ]
    },
    {
      "cell_type": "code",
      "metadata": {
        "id": "ErthHlDbHMi_"
      },
      "source": [
        "# Librería para algebra lineal y matrices\n",
        "import numpy as np \n",
        "\n",
        "# Vector \n",
        "a = np.array(lista)\n",
        "print(f'Vector: {a}')\n",
        "\n",
        "# Vector con inicialización\n",
        "b = np.array([2,4,6,8])\n",
        "print(f'Vector: {b}')\n",
        "\n",
        "# Matriz inicialización\n",
        "c = np.array([[1, 2], [3, 4]])\n",
        "print(c)\n",
        "\n",
        "# Crear matrices de unos\n",
        "d = np.ones((3, 3))\n",
        "z = np.array([[1, 2, 3], [4, 5, 6], [7, 8, 9]])\n",
        "\n",
        "print(f'Matriz de unos:\\n {d}')\n",
        "print(f'Matriz de inicializada:\\n {z}')\n",
        "\n",
        "# Operaciones matemáticas sobre matrices\n",
        "\n",
        "## Multiplicar utilizando el operador * (Multiplicar elemento a elemento)\n",
        "print(f'Multiplicación operador *:\\n{d*z}')\n",
        "\n",
        "## Multiplicación matricial\n",
        "print('Multiplicación de matrices (álgebra lineal):\\n')\n",
        "print(np.dot(d,z), end='\\n'*2)\n",
        "print(d.dot(z), end='\\n'*2)\n",
        "print(d @ z, end='\\n'*2)\n"
      ],
      "execution_count": null,
      "outputs": []
    },
    {
      "cell_type": "code",
      "metadata": {
        "id": "NXcpKgGbboKD"
      },
      "source": [
        "# Repito el vector 3 filas con una 1 columna\n",
        "\n",
        "print(np.arange(0, 40, 10), end='\\n'*2)\n",
        "\n",
        "a = np.tile(np.arange(0, 40, 10), (3, 1))\n",
        "print(a, end='\\n\\n')\n",
        "\n",
        "print(f'La forma de la matriz: {a.shape}. Con {a.shape[0]} filas y {a.shape[1]} columnas', end='\\n'*3)\n",
        "\n",
        "# Transpuesta \n",
        "b = a.T\n",
        "print('Matriz transpuesta de a:\\n')\n",
        "print(b)\n",
        "print(f'Dimesión de la matriz b: {b.shape}')\n",
        "\n",
        "# Crea un vector\n",
        "c = np.array([0, 1, 2])\n",
        "print(f'Vector c: {c}')\n",
        "\n",
        "# Sumar el vector c con la matriz a\n",
        "print(b + c)\n"
      ],
      "execution_count": null,
      "outputs": []
    },
    {
      "cell_type": "code",
      "metadata": {
        "id": "Al9v8Smic48j"
      },
      "source": [
        "# Otra forma de sumar matrices\n",
        "\n",
        "a = np.arange(0,40, 10)\n",
        "print(a)\n",
        "\n",
        "# Convertir a matriz columna\n",
        "a = a[:, np.newaxis]\n",
        "print(a)\n",
        "\n",
        "# Vector c\n",
        "print(c, end='\\n'*2)\n",
        "\n",
        "print(a+c)\n",
        "\n",
        "\n"
      ],
      "execution_count": null,
      "outputs": []
    },
    {
      "cell_type": "code",
      "metadata": {
        "id": "LBzwuXkcdWtW"
      },
      "source": [
        ""
      ],
      "execution_count": null,
      "outputs": []
    },
    {
      "cell_type": "code",
      "metadata": {
        "id": "WhGmcfSWdkKL"
      },
      "source": [
        "# Slicing\n"
      ],
      "execution_count": null,
      "outputs": []
    },
    {
      "cell_type": "markdown",
      "metadata": {
        "id": "4kpNgDcWXHsL"
      },
      "source": [
        "### 2.1 Sistema de Ecuaciones\n",
        "\n",
        "Resolver siguiente sistema de ecuaciones:\n",
        "\n",
        "\n",
        ">$\\begin{eqnarray}\n",
        "2x_1 + 3x_2  = 8 \\\\\n",
        "x_1 - 2x_2 = -10 \n",
        "\\end{eqnarray}$\n",
        "\n",
        "Utilizando Python y las librerías numpy.\n",
        "\n",
        "​\t\n"
      ]
    },
    {
      "cell_type": "code",
      "metadata": {
        "id": "jKvuHKLDXNgD"
      },
      "source": [
        ""
      ],
      "execution_count": null,
      "outputs": []
    },
    {
      "cell_type": "markdown",
      "metadata": {
        "id": "CGLyLgjHYgrh"
      },
      "source": [
        "#### Determinar si el sistema de ecuaciones se puede resolver."
      ]
    },
    {
      "cell_type": "code",
      "metadata": {
        "id": "113noHQuYmkr"
      },
      "source": [
        ""
      ],
      "execution_count": null,
      "outputs": []
    },
    {
      "cell_type": "markdown",
      "metadata": {
        "id": "pdkjB6KmY7XR"
      },
      "source": [
        "#### Resolver el sistema de ecuaciones utilizando las librerías linalg.\n"
      ]
    },
    {
      "cell_type": "code",
      "metadata": {
        "id": "Y-oT2t6BZmHT"
      },
      "source": [
        ""
      ],
      "execution_count": null,
      "outputs": []
    },
    {
      "cell_type": "markdown",
      "metadata": {
        "id": "6qBs2ba-FS6n"
      },
      "source": [
        "## 3. Carga de datos con Pandas\n",
        "\n",
        "1. sepal length in cm \n",
        "2. sepal width in cm \n",
        "3. petal length in cm \n",
        "4. petal width in cm \n",
        "5. class: \n",
        "-- Iris Setosa \n",
        "-- Iris Versicolour \n",
        "-- Iris Virginica\n",
        "\n",
        "https://archive.ics.uci.edu/ml/datasets/iris"
      ]
    },
    {
      "cell_type": "code",
      "metadata": {
        "id": "Lj2iVzYLHVmH"
      },
      "source": [
        ""
      ],
      "execution_count": null,
      "outputs": []
    },
    {
      "cell_type": "markdown",
      "metadata": {
        "id": "53SrbU78d_1F"
      },
      "source": [
        "Operaciones"
      ]
    },
    {
      "cell_type": "code",
      "metadata": {
        "id": "LmNv5FgyeAWv"
      },
      "source": [
        ""
      ],
      "execution_count": null,
      "outputs": []
    },
    {
      "cell_type": "code",
      "metadata": {
        "id": "p9HabcfueHEA"
      },
      "source": [
        "\n"
      ],
      "execution_count": null,
      "outputs": []
    },
    {
      "cell_type": "markdown",
      "metadata": {
        "id": "cRDMI6z6HWY5"
      },
      "source": [
        "## 4. Gráficos"
      ]
    },
    {
      "cell_type": "code",
      "metadata": {
        "id": "6crJ7bLhHdIx"
      },
      "source": [
        ""
      ],
      "execution_count": null,
      "outputs": []
    },
    {
      "cell_type": "code",
      "metadata": {
        "id": "wOHp2yaGec_3"
      },
      "source": [
        ""
      ],
      "execution_count": null,
      "outputs": []
    },
    {
      "cell_type": "code",
      "metadata": {
        "id": "BqWcHmv6ed_H"
      },
      "source": [
        ""
      ],
      "execution_count": null,
      "outputs": []
    }
  ]
}