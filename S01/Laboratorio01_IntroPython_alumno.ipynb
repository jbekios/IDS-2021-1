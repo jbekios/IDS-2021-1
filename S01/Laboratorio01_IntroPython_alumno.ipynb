{
  "nbformat": 4,
  "nbformat_minor": 0,
  "metadata": {
    "colab": {
      "name": "Laboratorio01_IntroPython-alumno.ipynb",
      "provenance": [],
      "collapsed_sections": []
    },
    "kernelspec": {
      "name": "python3",
      "display_name": "Python 3"
    }
  },
  "cells": [
    {
      "cell_type": "markdown",
      "metadata": {
        "id": "Zfqor7EEFSTU"
      },
      "source": [
        "# Curso: Introducción a Data Science\n",
        "## Laboratorio 01: Introducción a Python\n",
        "**Profesor: Dr. Juan Bekios Calfa**\n",
        "\n",
        "**Temas:**\n",
        "\n",
        "*   Listas\n",
        "*   Matrices \n",
        "*   Carga de datos con pandas\n",
        "*   Gráficos\n",
        "\n",
        "## 1. Uso de listas"
      ]
    },
    {
      "cell_type": "code",
      "metadata": {
        "id": "OHVG8VZUFNA0"
      },
      "source": [
        ""
      ],
      "execution_count": null,
      "outputs": []
    },
    {
      "cell_type": "code",
      "metadata": {
        "id": "WqDHFkgvIrsk"
      },
      "source": [
        ""
      ],
      "execution_count": null,
      "outputs": []
    },
    {
      "cell_type": "markdown",
      "metadata": {
        "id": "dgtwxyvpFSyP"
      },
      "source": [
        "## 2. Matrices\n",
        "\n"
      ]
    },
    {
      "cell_type": "code",
      "metadata": {
        "id": "ErthHlDbHMi_"
      },
      "source": [
        ""
      ],
      "execution_count": null,
      "outputs": []
    },
    {
      "cell_type": "code",
      "metadata": {
        "id": "NXcpKgGbboKD"
      },
      "source": [
        ""
      ],
      "execution_count": null,
      "outputs": []
    },
    {
      "cell_type": "code",
      "metadata": {
        "id": "Al9v8Smic48j"
      },
      "source": [
        ""
      ],
      "execution_count": null,
      "outputs": []
    },
    {
      "cell_type": "code",
      "metadata": {
        "id": "LBzwuXkcdWtW"
      },
      "source": [
        ""
      ],
      "execution_count": null,
      "outputs": []
    },
    {
      "cell_type": "code",
      "metadata": {
        "id": "WhGmcfSWdkKL"
      },
      "source": [
        "# Slicing\n"
      ],
      "execution_count": null,
      "outputs": []
    },
    {
      "cell_type": "markdown",
      "metadata": {
        "id": "4kpNgDcWXHsL"
      },
      "source": [
        "### 2.1 Sistema de Ecuaciones\n",
        "\n",
        "Resolver siguiente sistema de ecuaciones:\n",
        "\n",
        "\n",
        ">$\\begin{eqnarray}\n",
        "2x_1 + 3x_2  = 8 \\\\\n",
        "x_1 - 2x_2 = -10 \n",
        "\\end{eqnarray}$\n",
        "\n",
        "Utilizando Python y las librerías numpy.\n",
        "\n",
        "​\t\n"
      ]
    },
    {
      "cell_type": "code",
      "metadata": {
        "id": "jKvuHKLDXNgD"
      },
      "source": [
        ""
      ],
      "execution_count": null,
      "outputs": []
    },
    {
      "cell_type": "markdown",
      "metadata": {
        "id": "CGLyLgjHYgrh"
      },
      "source": [
        "#### Determinar si el sistema de ecuaciones se puede resolver."
      ]
    },
    {
      "cell_type": "code",
      "metadata": {
        "id": "113noHQuYmkr"
      },
      "source": [
        ""
      ],
      "execution_count": null,
      "outputs": []
    },
    {
      "cell_type": "markdown",
      "metadata": {
        "id": "pdkjB6KmY7XR"
      },
      "source": [
        "#### Resolver el sistema de ecuaciones utilizando las librerías linalg.\n"
      ]
    },
    {
      "cell_type": "code",
      "metadata": {
        "id": "Y-oT2t6BZmHT"
      },
      "source": [
        ""
      ],
      "execution_count": null,
      "outputs": []
    },
    {
      "cell_type": "markdown",
      "metadata": {
        "id": "6qBs2ba-FS6n"
      },
      "source": [
        "## 3. Carga de datos con Pandas\n",
        "\n",
        "1. sepal length in cm \n",
        "2. sepal width in cm \n",
        "3. petal length in cm \n",
        "4. petal width in cm \n",
        "5. class: \n",
        "-- Iris Setosa \n",
        "-- Iris Versicolour \n",
        "-- Iris Virginica\n",
        "\n",
        "https://archive.ics.uci.edu/ml/datasets/iris"
      ]
    },
    {
      "cell_type": "code",
      "metadata": {
        "id": "Lj2iVzYLHVmH"
      },
      "source": [
        ""
      ],
      "execution_count": null,
      "outputs": []
    },
    {
      "cell_type": "markdown",
      "metadata": {
        "id": "53SrbU78d_1F"
      },
      "source": [
        "Operaciones"
      ]
    },
    {
      "cell_type": "code",
      "metadata": {
        "id": "LmNv5FgyeAWv"
      },
      "source": [
        ""
      ],
      "execution_count": null,
      "outputs": []
    },
    {
      "cell_type": "code",
      "metadata": {
        "id": "p9HabcfueHEA"
      },
      "source": [
        "\n"
      ],
      "execution_count": null,
      "outputs": []
    },
    {
      "cell_type": "markdown",
      "metadata": {
        "id": "cRDMI6z6HWY5"
      },
      "source": [
        "## 4. Gráficos"
      ]
    },
    {
      "cell_type": "code",
      "metadata": {
        "id": "6crJ7bLhHdIx"
      },
      "source": [
        ""
      ],
      "execution_count": null,
      "outputs": []
    },
    {
      "cell_type": "code",
      "metadata": {
        "id": "wOHp2yaGec_3"
      },
      "source": [
        ""
      ],
      "execution_count": null,
      "outputs": []
    },
    {
      "cell_type": "code",
      "metadata": {
        "id": "BqWcHmv6ed_H"
      },
      "source": [
        ""
      ],
      "execution_count": null,
      "outputs": []
    }
  ]
}